{
  "nbformat": 4,
  "nbformat_minor": 0,
  "metadata": {
    "colab": {
      "name": "ANZ Modeling",
      "provenance": [],
      "collapsed_sections": []
    },
    "kernelspec": {
      "name": "python3",
      "display_name": "Python 3"
    }
  },
  "cells": [
    {
      "cell_type": "code",
      "metadata": {
        "id": "-QcyuIUhHRnq",
        "colab_type": "code",
        "colab": {}
      },
      "source": [
        "import pandas as pd\n",
        "import numpy as np\n",
        "import xlrd\n",
        "import seaborn as sns\n",
        "import matplotlib.pyplot as plt"
      ],
      "execution_count": null,
      "outputs": []
    },
    {
      "cell_type": "code",
      "metadata": {
        "id": "3Mbsb-yxHbSQ",
        "colab_type": "code",
        "colab": {
          "resources": {
            "http://localhost:8080/nbextensions/google.colab/files.js": {
              "data": "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",
              "ok": true,
              "headers": [
                [
                  "content-type",
                  "application/javascript"
                ]
              ],
              "status": 200,
              "status_text": "OK"
            }
          },
          "base_uri": "https://localhost:8080/",
          "height": 75
        },
        "outputId": "7cd027ab-131a-45b3-bc13-5f620e155ae7"
      },
      "source": [
        "from google.colab import files\n",
        "uploaded = files.upload()"
      ],
      "execution_count": null,
      "outputs": [
        {
          "output_type": "display_data",
          "data": {
            "text/html": [
              "\n",
              "     <input type=\"file\" id=\"files-f97578f6-9dac-46cd-8d89-57e2b34c9f73\" name=\"files[]\" multiple disabled\n",
              "        style=\"border:none\" />\n",
              "     <output id=\"result-f97578f6-9dac-46cd-8d89-57e2b34c9f73\">\n",
              "      Upload widget is only available when the cell has been executed in the\n",
              "      current browser session. Please rerun this cell to enable.\n",
              "      </output>\n",
              "      <script src=\"/nbextensions/google.colab/files.js\"></script> "
            ],
            "text/plain": [
              "<IPython.core.display.HTML object>"
            ]
          },
          "metadata": {
            "tags": []
          }
        },
        {
          "output_type": "stream",
          "text": [
            "Saving ANZ synthesised transaction dataset.xlsx to ANZ synthesised transaction dataset.xlsx\n"
          ],
          "name": "stdout"
        }
      ]
    },
    {
      "cell_type": "code",
      "metadata": {
        "id": "zvC8aCx9HxSX",
        "colab_type": "code",
        "colab": {}
      },
      "source": [
        "df=pd.read_excel('ANZ synthesised transaction dataset.xlsx')\n",
        "#df.info()"
      ],
      "execution_count": null,
      "outputs": []
    },
    {
      "cell_type": "code",
      "metadata": {
        "id": "U6wQzmZJfLne",
        "colab_type": "code",
        "colab": {
          "base_uri": "https://localhost:8080/",
          "height": 186
        },
        "outputId": "94d15548-e0d2-485a-817a-319ef166ceb3"
      },
      "source": [
        "df.merchant_state.value_counts()"
      ],
      "execution_count": null,
      "outputs": [
        {
          "output_type": "execute_result",
          "data": {
            "text/plain": [
              "NSW    2169\n",
              "VIC    2131\n",
              "QLD    1556\n",
              "WA     1100\n",
              "SA      415\n",
              "NT      205\n",
              "ACT      73\n",
              "TAS      68\n",
              "Name: merchant_state, dtype: int64"
            ]
          },
          "metadata": {
            "tags": []
          },
          "execution_count": 135
        }
      ]
    },
    {
      "cell_type": "code",
      "metadata": {
        "id": "iwm7iXVbIJD9",
        "colab_type": "code",
        "colab": {}
      },
      "source": [
        "df.drop(['bpay_biller_code','merchant_id','merchant_code','merchant_suburb','merchant_long_lat'],inplace=True,axis=1)"
      ],
      "execution_count": null,
      "outputs": []
    },
    {
      "cell_type": "code",
      "metadata": {
        "id": "6XzdZAE1Itwc",
        "colab_type": "code",
        "colab": {}
      },
      "source": [
        "df.drop(['account','currency','long_lat','first_name','transaction_id','country'],inplace=True,axis=1)"
      ],
      "execution_count": null,
      "outputs": []
    },
    {
      "cell_type": "code",
      "metadata": {
        "id": "5VTIDPkRTYfO",
        "colab_type": "code",
        "colab": {
          "base_uri": "https://localhost:8080/",
          "height": 373
        },
        "outputId": "c89b8585-dcea-424e-8236-e184723f60dc"
      },
      "source": [
        "df.info()"
      ],
      "execution_count": null,
      "outputs": [
        {
          "output_type": "stream",
          "text": [
            "<class 'pandas.core.frame.DataFrame'>\n",
            "RangeIndex: 12043 entries, 0 to 12042\n",
            "Data columns (total 12 columns):\n",
            " #   Column             Non-Null Count  Dtype         \n",
            "---  ------             --------------  -----         \n",
            " 0   status             12043 non-null  object        \n",
            " 1   card_present_flag  7717 non-null   float64       \n",
            " 2   txn_description    12043 non-null  object        \n",
            " 3   balance            12043 non-null  float64       \n",
            " 4   date               12043 non-null  datetime64[ns]\n",
            " 5   gender             12043 non-null  object        \n",
            " 6   age                12043 non-null  int64         \n",
            " 7   merchant_state     7717 non-null   object        \n",
            " 8   extraction         12043 non-null  object        \n",
            " 9   amount             12043 non-null  float64       \n",
            " 10  customer_id        12043 non-null  object        \n",
            " 11  movement           12043 non-null  object        \n",
            "dtypes: datetime64[ns](1), float64(3), int64(1), object(7)\n",
            "memory usage: 1.1+ MB\n"
          ],
          "name": "stdout"
        }
      ]
    },
    {
      "cell_type": "code",
      "metadata": {
        "id": "744LSy0VTgSr",
        "colab_type": "code",
        "colab": {}
      },
      "source": [
        "a=df[['customer_id','amount']][df['txn_description']=='PAY/SALARY'].groupby(['customer_id']).sum()"
      ],
      "execution_count": null,
      "outputs": []
    },
    {
      "cell_type": "code",
      "metadata": {
        "id": "oEC7pGy8Tn9c",
        "colab_type": "code",
        "colab": {}
      },
      "source": [
        "a['annual']=a['amount']*4"
      ],
      "execution_count": null,
      "outputs": []
    },
    {
      "cell_type": "code",
      "metadata": {
        "id": "hnB65iwPUXJL",
        "colab_type": "code",
        "colab": {}
      },
      "source": [
        "a.drop('amount',inplace=True,axis=1)"
      ],
      "execution_count": null,
      "outputs": []
    },
    {
      "cell_type": "code",
      "metadata": {
        "id": "Yu-QfM05crBe",
        "colab_type": "code",
        "colab": {}
      },
      "source": [
        "a.reset_index(inplace=True)"
      ],
      "execution_count": null,
      "outputs": []
    },
    {
      "cell_type": "code",
      "metadata": {
        "id": "bvfVe0r5bhQa",
        "colab_type": "code",
        "colab": {}
      },
      "source": [
        "df1=pd.merge(a,df,on='customer_id',how='left')"
      ],
      "execution_count": null,
      "outputs": []
    },
    {
      "cell_type": "code",
      "metadata": {
        "id": "1BFAA3wddDp4",
        "colab_type": "code",
        "colab": {
          "base_uri": "https://localhost:8080/",
          "height": 36
        },
        "outputId": "6e8ac723-9846-4ce2-cf53-1e550c7cc335"
      },
      "source": [
        "df1.shape"
      ],
      "execution_count": null,
      "outputs": [
        {
          "output_type": "execute_result",
          "data": {
            "text/plain": [
              "(12043, 13)"
            ]
          },
          "metadata": {
            "tags": []
          },
          "execution_count": 144
        }
      ]
    },
    {
      "cell_type": "code",
      "metadata": {
        "id": "HtXOC4fodHIW",
        "colab_type": "code",
        "colab": {
          "base_uri": "https://localhost:8080/",
          "height": 226
        },
        "outputId": "5e2906fd-7255-4116-ca14-201dfa58634a"
      },
      "source": [
        "df1.head()"
      ],
      "execution_count": null,
      "outputs": [
        {
          "output_type": "execute_result",
          "data": {
            "text/html": [
              "<div>\n",
              "<style scoped>\n",
              "    .dataframe tbody tr th:only-of-type {\n",
              "        vertical-align: middle;\n",
              "    }\n",
              "\n",
              "    .dataframe tbody tr th {\n",
              "        vertical-align: top;\n",
              "    }\n",
              "\n",
              "    .dataframe thead th {\n",
              "        text-align: right;\n",
              "    }\n",
              "</style>\n",
              "<table border=\"1\" class=\"dataframe\">\n",
              "  <thead>\n",
              "    <tr style=\"text-align: right;\">\n",
              "      <th></th>\n",
              "      <th>customer_id</th>\n",
              "      <th>annual</th>\n",
              "      <th>status</th>\n",
              "      <th>card_present_flag</th>\n",
              "      <th>txn_description</th>\n",
              "      <th>balance</th>\n",
              "      <th>date</th>\n",
              "      <th>gender</th>\n",
              "      <th>age</th>\n",
              "      <th>merchant_state</th>\n",
              "      <th>extraction</th>\n",
              "      <th>amount</th>\n",
              "      <th>movement</th>\n",
              "    </tr>\n",
              "  </thead>\n",
              "  <tbody>\n",
              "    <tr>\n",
              "      <th>0</th>\n",
              "      <td>CUS-1005756958</td>\n",
              "      <td>50464.44</td>\n",
              "      <td>authorized</td>\n",
              "      <td>1.0</td>\n",
              "      <td>POS</td>\n",
              "      <td>463.96</td>\n",
              "      <td>2018-08-02</td>\n",
              "      <td>F</td>\n",
              "      <td>53</td>\n",
              "      <td>QLD</td>\n",
              "      <td>2018-08-02T08:08:02.000+0000</td>\n",
              "      <td>6.48</td>\n",
              "      <td>debit</td>\n",
              "    </tr>\n",
              "    <tr>\n",
              "      <th>1</th>\n",
              "      <td>CUS-1005756958</td>\n",
              "      <td>50464.44</td>\n",
              "      <td>authorized</td>\n",
              "      <td>1.0</td>\n",
              "      <td>SALES-POS</td>\n",
              "      <td>424.01</td>\n",
              "      <td>2018-08-02</td>\n",
              "      <td>F</td>\n",
              "      <td>53</td>\n",
              "      <td>QLD</td>\n",
              "      <td>2018-08-02T21:36:42.000+0000</td>\n",
              "      <td>39.95</td>\n",
              "      <td>debit</td>\n",
              "    </tr>\n",
              "    <tr>\n",
              "      <th>2</th>\n",
              "      <td>CUS-1005756958</td>\n",
              "      <td>50464.44</td>\n",
              "      <td>authorized</td>\n",
              "      <td>1.0</td>\n",
              "      <td>POS</td>\n",
              "      <td>401.05</td>\n",
              "      <td>2018-08-03</td>\n",
              "      <td>F</td>\n",
              "      <td>53</td>\n",
              "      <td>NSW</td>\n",
              "      <td>2018-08-03T08:27:40.000+0000</td>\n",
              "      <td>22.96</td>\n",
              "      <td>debit</td>\n",
              "    </tr>\n",
              "    <tr>\n",
              "      <th>3</th>\n",
              "      <td>CUS-1005756958</td>\n",
              "      <td>50464.44</td>\n",
              "      <td>authorized</td>\n",
              "      <td>0.0</td>\n",
              "      <td>POS</td>\n",
              "      <td>391.94</td>\n",
              "      <td>2018-08-03</td>\n",
              "      <td>F</td>\n",
              "      <td>53</td>\n",
              "      <td>QLD</td>\n",
              "      <td>2018-08-03T09:15:59.000+0000</td>\n",
              "      <td>9.11</td>\n",
              "      <td>debit</td>\n",
              "    </tr>\n",
              "    <tr>\n",
              "      <th>4</th>\n",
              "      <td>CUS-1005756958</td>\n",
              "      <td>50464.44</td>\n",
              "      <td>authorized</td>\n",
              "      <td>1.0</td>\n",
              "      <td>SALES-POS</td>\n",
              "      <td>377.29</td>\n",
              "      <td>2018-08-03</td>\n",
              "      <td>F</td>\n",
              "      <td>53</td>\n",
              "      <td>QLD</td>\n",
              "      <td>2018-08-03T21:51:32.000+0000</td>\n",
              "      <td>14.65</td>\n",
              "      <td>debit</td>\n",
              "    </tr>\n",
              "  </tbody>\n",
              "</table>\n",
              "</div>"
            ],
            "text/plain": [
              "      customer_id    annual  ... amount  movement\n",
              "0  CUS-1005756958  50464.44  ...   6.48     debit\n",
              "1  CUS-1005756958  50464.44  ...  39.95     debit\n",
              "2  CUS-1005756958  50464.44  ...  22.96     debit\n",
              "3  CUS-1005756958  50464.44  ...   9.11     debit\n",
              "4  CUS-1005756958  50464.44  ...  14.65     debit\n",
              "\n",
              "[5 rows x 13 columns]"
            ]
          },
          "metadata": {
            "tags": []
          },
          "execution_count": 145
        }
      ]
    },
    {
      "cell_type": "code",
      "metadata": {
        "id": "ynCIFurQd9E6",
        "colab_type": "code",
        "colab": {}
      },
      "source": [
        "df1.drop(['card_present_flag','merchant_state'],inplace=True,axis=1)"
      ],
      "execution_count": null,
      "outputs": []
    },
    {
      "cell_type": "code",
      "metadata": {
        "id": "cD29UDluimBh",
        "colab_type": "code",
        "colab": {
          "base_uri": "https://localhost:8080/",
          "height": 354
        },
        "outputId": "d04d4fea-57ef-46b1-c1c5-45f91df9e5f1"
      },
      "source": [
        "df1.info()"
      ],
      "execution_count": null,
      "outputs": [
        {
          "output_type": "stream",
          "text": [
            "<class 'pandas.core.frame.DataFrame'>\n",
            "Int64Index: 12043 entries, 0 to 12042\n",
            "Data columns (total 11 columns):\n",
            " #   Column           Non-Null Count  Dtype         \n",
            "---  ------           --------------  -----         \n",
            " 0   customer_id      12043 non-null  object        \n",
            " 1   annual           12043 non-null  float64       \n",
            " 2   status           12043 non-null  object        \n",
            " 3   txn_description  12043 non-null  object        \n",
            " 4   balance          12043 non-null  float64       \n",
            " 5   date             12043 non-null  datetime64[ns]\n",
            " 6   gender           12043 non-null  object        \n",
            " 7   age              12043 non-null  int64         \n",
            " 8   extraction       12043 non-null  object        \n",
            " 9   amount           12043 non-null  float64       \n",
            " 10  movement         12043 non-null  object        \n",
            "dtypes: datetime64[ns](1), float64(3), int64(1), object(6)\n",
            "memory usage: 1.1+ MB\n"
          ],
          "name": "stdout"
        }
      ]
    },
    {
      "cell_type": "code",
      "metadata": {
        "id": "F0ed5MfWi-6x",
        "colab_type": "code",
        "colab": {}
      },
      "source": [
        "df1['month']=df1['date'].dt.month"
      ],
      "execution_count": null,
      "outputs": []
    },
    {
      "cell_type": "code",
      "metadata": {
        "id": "VTz3sul8jlVd",
        "colab_type": "code",
        "colab": {}
      },
      "source": [
        "month=pd.get_dummies(df1['month'])\n",
        "month.columns=['month_8','month_9','month_10']"
      ],
      "execution_count": null,
      "outputs": []
    },
    {
      "cell_type": "code",
      "metadata": {
        "id": "JMQuKFwUlZw3",
        "colab_type": "code",
        "colab": {}
      },
      "source": [
        "df1[month.columns]=month"
      ],
      "execution_count": null,
      "outputs": []
    },
    {
      "cell_type": "code",
      "metadata": {
        "id": "ecFm4-0mle0S",
        "colab_type": "code",
        "colab": {}
      },
      "source": [
        "movement=pd.get_dummies(df1['movement'])\n",
        "df1[movement.columns]=movement"
      ],
      "execution_count": null,
      "outputs": []
    },
    {
      "cell_type": "code",
      "metadata": {
        "id": "qH5w3G38lfcp",
        "colab_type": "code",
        "colab": {}
      },
      "source": [
        "status=pd.get_dummies(df1['status'])"
      ],
      "execution_count": null,
      "outputs": []
    },
    {
      "cell_type": "code",
      "metadata": {
        "id": "xx8By7Annc-f",
        "colab_type": "code",
        "colab": {}
      },
      "source": [
        "txn_des=pd.get_dummies(df['txn_description'])\n",
        "df1[txn_des.columns]=txn_des"
      ],
      "execution_count": null,
      "outputs": []
    },
    {
      "cell_type": "code",
      "metadata": {
        "id": "eqXCOCPRpjqF",
        "colab_type": "code",
        "colab": {}
      },
      "source": [
        "status=pd.get_dummies(df1['status'])\n",
        "df1[status.columns]=status"
      ],
      "execution_count": null,
      "outputs": []
    },
    {
      "cell_type": "code",
      "metadata": {
        "id": "drHMZ496puP4",
        "colab_type": "code",
        "colab": {}
      },
      "source": [
        "gender=pd.get_dummies(df1['gender'])\n",
        "df1[gender.columns]=gender"
      ],
      "execution_count": null,
      "outputs": []
    },
    {
      "cell_type": "code",
      "metadata": {
        "id": "wCdQzFIKp2_b",
        "colab_type": "code",
        "colab": {}
      },
      "source": [
        "df1.drop(['movement','month','status','txn_description','gender'],inplace=True,axis=1)"
      ],
      "execution_count": null,
      "outputs": []
    },
    {
      "cell_type": "code",
      "metadata": {
        "id": "Nkt40fFuqGd3",
        "colab_type": "code",
        "colab": {
          "base_uri": "https://localhost:8080/",
          "height": 36
        },
        "outputId": "99844e39-787b-4297-a65c-f377749d40ba"
      },
      "source": [
        "df1.shape"
      ],
      "execution_count": null,
      "outputs": [
        {
          "output_type": "execute_result",
          "data": {
            "text/plain": [
              "(12043, 22)"
            ]
          },
          "metadata": {
            "tags": []
          },
          "execution_count": 157
        }
      ]
    },
    {
      "cell_type": "code",
      "metadata": {
        "id": "x7sfLICxqH8p",
        "colab_type": "code",
        "colab": {}
      },
      "source": [
        "df1.drop(['date','extraction'],inplace=True,axis=1)"
      ],
      "execution_count": null,
      "outputs": []
    },
    {
      "cell_type": "code",
      "metadata": {
        "id": "6KHwNp47q5BN",
        "colab_type": "code",
        "colab": {
          "base_uri": "https://localhost:8080/",
          "height": 523
        },
        "outputId": "34accd75-503f-47e3-f26e-4ca0ae64005f"
      },
      "source": [
        "df1.info()"
      ],
      "execution_count": null,
      "outputs": [
        {
          "output_type": "stream",
          "text": [
            "<class 'pandas.core.frame.DataFrame'>\n",
            "Int64Index: 12043 entries, 0 to 12042\n",
            "Data columns (total 20 columns):\n",
            " #   Column       Non-Null Count  Dtype  \n",
            "---  ------       --------------  -----  \n",
            " 0   customer_id  12043 non-null  object \n",
            " 1   annual       12043 non-null  float64\n",
            " 2   balance      12043 non-null  float64\n",
            " 3   age          12043 non-null  int64  \n",
            " 4   amount       12043 non-null  float64\n",
            " 5   month_8      12043 non-null  uint8  \n",
            " 6   month_9      12043 non-null  uint8  \n",
            " 7   month_10     12043 non-null  uint8  \n",
            " 8   credit       12043 non-null  uint8  \n",
            " 9   debit        12043 non-null  uint8  \n",
            " 10  INTER BANK   12043 non-null  uint8  \n",
            " 11  PAY/SALARY   12043 non-null  uint8  \n",
            " 12  PAYMENT      12043 non-null  uint8  \n",
            " 13  PHONE BANK   12043 non-null  uint8  \n",
            " 14  POS          12043 non-null  uint8  \n",
            " 15  SALES-POS    12043 non-null  uint8  \n",
            " 16  authorized   12043 non-null  uint8  \n",
            " 17  posted       12043 non-null  uint8  \n",
            " 18  F            12043 non-null  uint8  \n",
            " 19  M            12043 non-null  uint8  \n",
            "dtypes: float64(3), int64(1), object(1), uint8(15)\n",
            "memory usage: 740.9+ KB\n"
          ],
          "name": "stdout"
        }
      ]
    },
    {
      "cell_type": "code",
      "metadata": {
        "id": "Oq1sfctssnl8",
        "colab_type": "code",
        "colab": {}
      },
      "source": [
        "sum1=df1[['customer_id','month_8','month_9','month_10','credit','debit','INTER BANK','PAY/SALARY','PAYMENT','PHONE BANK','POS','SALES-POS','authorized','posted','amount']]\n",
        "notadd=df1[['customer_id','annual','age','F','M']]"
      ],
      "execution_count": null,
      "outputs": []
    },
    {
      "cell_type": "code",
      "metadata": {
        "id": "dWBQiCUFu16n",
        "colab_type": "code",
        "colab": {}
      },
      "source": [
        "sum11=sum1.groupby(['customer_id']).sum()"
      ],
      "execution_count": null,
      "outputs": []
    },
    {
      "cell_type": "code",
      "metadata": {
        "id": "YUDlzcw-vZLa",
        "colab_type": "code",
        "colab": {
          "base_uri": "https://localhost:8080/",
          "height": 129
        },
        "outputId": "544e8484-b2f0-4387-9dae-e8157319138e"
      },
      "source": [
        "sum11.head(1)"
      ],
      "execution_count": null,
      "outputs": [
        {
          "output_type": "execute_result",
          "data": {
            "text/html": [
              "<div>\n",
              "<style scoped>\n",
              "    .dataframe tbody tr th:only-of-type {\n",
              "        vertical-align: middle;\n",
              "    }\n",
              "\n",
              "    .dataframe tbody tr th {\n",
              "        vertical-align: top;\n",
              "    }\n",
              "\n",
              "    .dataframe thead th {\n",
              "        text-align: right;\n",
              "    }\n",
              "</style>\n",
              "<table border=\"1\" class=\"dataframe\">\n",
              "  <thead>\n",
              "    <tr style=\"text-align: right;\">\n",
              "      <th></th>\n",
              "      <th>month_8</th>\n",
              "      <th>month_9</th>\n",
              "      <th>month_10</th>\n",
              "      <th>credit</th>\n",
              "      <th>debit</th>\n",
              "      <th>INTER BANK</th>\n",
              "      <th>PAY/SALARY</th>\n",
              "      <th>PAYMENT</th>\n",
              "      <th>PHONE BANK</th>\n",
              "      <th>POS</th>\n",
              "      <th>SALES-POS</th>\n",
              "      <th>authorized</th>\n",
              "      <th>posted</th>\n",
              "      <th>amount</th>\n",
              "    </tr>\n",
              "    <tr>\n",
              "      <th>customer_id</th>\n",
              "      <th></th>\n",
              "      <th></th>\n",
              "      <th></th>\n",
              "      <th></th>\n",
              "      <th></th>\n",
              "      <th></th>\n",
              "      <th></th>\n",
              "      <th></th>\n",
              "      <th></th>\n",
              "      <th></th>\n",
              "      <th></th>\n",
              "      <th></th>\n",
              "      <th></th>\n",
              "      <th></th>\n",
              "    </tr>\n",
              "  </thead>\n",
              "  <tbody>\n",
              "    <tr>\n",
              "      <th>CUS-1005756958</th>\n",
              "      <td>50.0</td>\n",
              "      <td>14.0</td>\n",
              "      <td>9.0</td>\n",
              "      <td>13.0</td>\n",
              "      <td>60.0</td>\n",
              "      <td>8.0</td>\n",
              "      <td>6.0</td>\n",
              "      <td>14.0</td>\n",
              "      <td>0.0</td>\n",
              "      <td>29.0</td>\n",
              "      <td>16.0</td>\n",
              "      <td>48.0</td>\n",
              "      <td>25.0</td>\n",
              "      <td>16268.97</td>\n",
              "    </tr>\n",
              "  </tbody>\n",
              "</table>\n",
              "</div>"
            ],
            "text/plain": [
              "                month_8  month_9  month_10  ...  authorized  posted    amount\n",
              "customer_id                                 ...                              \n",
              "CUS-1005756958     50.0     14.0       9.0  ...        48.0    25.0  16268.97\n",
              "\n",
              "[1 rows x 14 columns]"
            ]
          },
          "metadata": {
            "tags": []
          },
          "execution_count": 162
        }
      ]
    },
    {
      "cell_type": "code",
      "metadata": {
        "id": "_HKllw3Qw3Ue",
        "colab_type": "code",
        "colab": {
          "base_uri": "https://localhost:8080/",
          "height": 131
        },
        "outputId": "4fc16c32-d11b-4ccb-d42c-1c53a7d9233c"
      },
      "source": [
        "notadd.drop_duplicates(inplace=True)"
      ],
      "execution_count": null,
      "outputs": [
        {
          "output_type": "stream",
          "text": [
            "/usr/local/lib/python3.6/dist-packages/ipykernel_launcher.py:1: SettingWithCopyWarning: \n",
            "A value is trying to be set on a copy of a slice from a DataFrame\n",
            "\n",
            "See the caveats in the documentation: https://pandas.pydata.org/pandas-docs/stable/user_guide/indexing.html#returning-a-view-versus-a-copy\n",
            "  \"\"\"Entry point for launching an IPython kernel.\n"
          ],
          "name": "stderr"
        }
      ]
    },
    {
      "cell_type": "code",
      "metadata": {
        "id": "qbNXjOnXyGf8",
        "colab_type": "code",
        "colab": {}
      },
      "source": [
        "final=pd.merge(sum11,notadd,on='customer_id')"
      ],
      "execution_count": null,
      "outputs": []
    },
    {
      "cell_type": "code",
      "metadata": {
        "id": "eP_JctCxyIeJ",
        "colab_type": "code",
        "colab": {
          "base_uri": "https://localhost:8080/",
          "height": 461
        },
        "outputId": "49ad21c6-c017-4c08-e79f-32ac62ea7817"
      },
      "source": [
        "final"
      ],
      "execution_count": null,
      "outputs": [
        {
          "output_type": "execute_result",
          "data": {
            "text/html": [
              "<div>\n",
              "<style scoped>\n",
              "    .dataframe tbody tr th:only-of-type {\n",
              "        vertical-align: middle;\n",
              "    }\n",
              "\n",
              "    .dataframe tbody tr th {\n",
              "        vertical-align: top;\n",
              "    }\n",
              "\n",
              "    .dataframe thead th {\n",
              "        text-align: right;\n",
              "    }\n",
              "</style>\n",
              "<table border=\"1\" class=\"dataframe\">\n",
              "  <thead>\n",
              "    <tr style=\"text-align: right;\">\n",
              "      <th></th>\n",
              "      <th>customer_id</th>\n",
              "      <th>month_8</th>\n",
              "      <th>month_9</th>\n",
              "      <th>month_10</th>\n",
              "      <th>credit</th>\n",
              "      <th>debit</th>\n",
              "      <th>INTER BANK</th>\n",
              "      <th>PAY/SALARY</th>\n",
              "      <th>PAYMENT</th>\n",
              "      <th>PHONE BANK</th>\n",
              "      <th>POS</th>\n",
              "      <th>SALES-POS</th>\n",
              "      <th>authorized</th>\n",
              "      <th>posted</th>\n",
              "      <th>amount</th>\n",
              "      <th>annual</th>\n",
              "      <th>age</th>\n",
              "      <th>F</th>\n",
              "      <th>M</th>\n",
              "    </tr>\n",
              "  </thead>\n",
              "  <tbody>\n",
              "    <tr>\n",
              "      <th>0</th>\n",
              "      <td>CUS-1005756958</td>\n",
              "      <td>50.0</td>\n",
              "      <td>14.0</td>\n",
              "      <td>9.0</td>\n",
              "      <td>13.0</td>\n",
              "      <td>60.0</td>\n",
              "      <td>8.0</td>\n",
              "      <td>6.0</td>\n",
              "      <td>14.0</td>\n",
              "      <td>0.0</td>\n",
              "      <td>29.0</td>\n",
              "      <td>16.0</td>\n",
              "      <td>48.0</td>\n",
              "      <td>25.0</td>\n",
              "      <td>16268.97</td>\n",
              "      <td>50464.44</td>\n",
              "      <td>53</td>\n",
              "      <td>1</td>\n",
              "      <td>0</td>\n",
              "    </tr>\n",
              "    <tr>\n",
              "      <th>1</th>\n",
              "      <td>CUS-1117979751</td>\n",
              "      <td>43.0</td>\n",
              "      <td>25.0</td>\n",
              "      <td>32.0</td>\n",
              "      <td>7.0</td>\n",
              "      <td>93.0</td>\n",
              "      <td>6.0</td>\n",
              "      <td>7.0</td>\n",
              "      <td>27.0</td>\n",
              "      <td>1.0</td>\n",
              "      <td>29.0</td>\n",
              "      <td>30.0</td>\n",
              "      <td>52.0</td>\n",
              "      <td>48.0</td>\n",
              "      <td>33984.37</td>\n",
              "      <td>100202.20</td>\n",
              "      <td>21</td>\n",
              "      <td>0</td>\n",
              "      <td>1</td>\n",
              "    </tr>\n",
              "    <tr>\n",
              "      <th>2</th>\n",
              "      <td>CUS-1140341822</td>\n",
              "      <td>15.0</td>\n",
              "      <td>22.0</td>\n",
              "      <td>43.0</td>\n",
              "      <td>6.0</td>\n",
              "      <td>74.0</td>\n",
              "      <td>2.0</td>\n",
              "      <td>10.0</td>\n",
              "      <td>11.0</td>\n",
              "      <td>1.0</td>\n",
              "      <td>28.0</td>\n",
              "      <td>28.0</td>\n",
              "      <td>65.0</td>\n",
              "      <td>15.0</td>\n",
              "      <td>17010.60</td>\n",
              "      <td>45996.24</td>\n",
              "      <td>28</td>\n",
              "      <td>0</td>\n",
              "      <td>1</td>\n",
              "    </tr>\n",
              "    <tr>\n",
              "      <th>3</th>\n",
              "      <td>CUS-1147642491</td>\n",
              "      <td>29.0</td>\n",
              "      <td>39.0</td>\n",
              "      <td>50.0</td>\n",
              "      <td>13.0</td>\n",
              "      <td>105.0</td>\n",
              "      <td>7.0</td>\n",
              "      <td>9.0</td>\n",
              "      <td>29.0</td>\n",
              "      <td>1.0</td>\n",
              "      <td>33.0</td>\n",
              "      <td>39.0</td>\n",
              "      <td>76.0</td>\n",
              "      <td>42.0</td>\n",
              "      <td>28980.82</td>\n",
              "      <td>88992.28</td>\n",
              "      <td>34</td>\n",
              "      <td>1</td>\n",
              "      <td>0</td>\n",
              "    </tr>\n",
              "    <tr>\n",
              "      <th>4</th>\n",
              "      <td>CUS-1196156254</td>\n",
              "      <td>82.0</td>\n",
              "      <td>98.0</td>\n",
              "      <td>65.0</td>\n",
              "      <td>7.0</td>\n",
              "      <td>238.0</td>\n",
              "      <td>16.0</td>\n",
              "      <td>6.0</td>\n",
              "      <td>47.0</td>\n",
              "      <td>1.0</td>\n",
              "      <td>93.0</td>\n",
              "      <td>82.0</td>\n",
              "      <td>163.0</td>\n",
              "      <td>82.0</td>\n",
              "      <td>36050.72</td>\n",
              "      <td>109304.44</td>\n",
              "      <td>34</td>\n",
              "      <td>1</td>\n",
              "      <td>0</td>\n",
              "    </tr>\n",
              "    <tr>\n",
              "      <th>...</th>\n",
              "      <td>...</td>\n",
              "      <td>...</td>\n",
              "      <td>...</td>\n",
              "      <td>...</td>\n",
              "      <td>...</td>\n",
              "      <td>...</td>\n",
              "      <td>...</td>\n",
              "      <td>...</td>\n",
              "      <td>...</td>\n",
              "      <td>...</td>\n",
              "      <td>...</td>\n",
              "      <td>...</td>\n",
              "      <td>...</td>\n",
              "      <td>...</td>\n",
              "      <td>...</td>\n",
              "      <td>...</td>\n",
              "      <td>...</td>\n",
              "      <td>...</td>\n",
              "      <td>...</td>\n",
              "    </tr>\n",
              "    <tr>\n",
              "      <th>95</th>\n",
              "      <td>CUS-72755508</td>\n",
              "      <td>19.0</td>\n",
              "      <td>13.0</td>\n",
              "      <td>26.0</td>\n",
              "      <td>12.0</td>\n",
              "      <td>46.0</td>\n",
              "      <td>3.0</td>\n",
              "      <td>3.0</td>\n",
              "      <td>14.0</td>\n",
              "      <td>0.0</td>\n",
              "      <td>19.0</td>\n",
              "      <td>19.0</td>\n",
              "      <td>45.0</td>\n",
              "      <td>13.0</td>\n",
              "      <td>11438.37</td>\n",
              "      <td>34815.36</td>\n",
              "      <td>35</td>\n",
              "      <td>1</td>\n",
              "      <td>0</td>\n",
              "    </tr>\n",
              "    <tr>\n",
              "      <th>96</th>\n",
              "      <td>CUS-809013380</td>\n",
              "      <td>68.0</td>\n",
              "      <td>42.0</td>\n",
              "      <td>14.0</td>\n",
              "      <td>13.0</td>\n",
              "      <td>111.0</td>\n",
              "      <td>7.0</td>\n",
              "      <td>0.0</td>\n",
              "      <td>24.0</td>\n",
              "      <td>1.0</td>\n",
              "      <td>50.0</td>\n",
              "      <td>42.0</td>\n",
              "      <td>88.0</td>\n",
              "      <td>36.0</td>\n",
              "      <td>18810.09</td>\n",
              "      <td>53927.64</td>\n",
              "      <td>21</td>\n",
              "      <td>1</td>\n",
              "      <td>0</td>\n",
              "    </tr>\n",
              "    <tr>\n",
              "      <th>97</th>\n",
              "      <td>CUS-860700529</td>\n",
              "      <td>53.0</td>\n",
              "      <td>89.0</td>\n",
              "      <td>91.0</td>\n",
              "      <td>6.0</td>\n",
              "      <td>227.0</td>\n",
              "      <td>16.0</td>\n",
              "      <td>16.0</td>\n",
              "      <td>48.0</td>\n",
              "      <td>0.0</td>\n",
              "      <td>76.0</td>\n",
              "      <td>77.0</td>\n",
              "      <td>206.0</td>\n",
              "      <td>27.0</td>\n",
              "      <td>18099.88</td>\n",
              "      <td>43406.88</td>\n",
              "      <td>30</td>\n",
              "      <td>0</td>\n",
              "      <td>1</td>\n",
              "    </tr>\n",
              "    <tr>\n",
              "      <th>98</th>\n",
              "      <td>CUS-880898248</td>\n",
              "      <td>32.0</td>\n",
              "      <td>17.0</td>\n",
              "      <td>29.0</td>\n",
              "      <td>6.0</td>\n",
              "      <td>72.0</td>\n",
              "      <td>6.0</td>\n",
              "      <td>5.0</td>\n",
              "      <td>17.0</td>\n",
              "      <td>1.0</td>\n",
              "      <td>27.0</td>\n",
              "      <td>22.0</td>\n",
              "      <td>56.0</td>\n",
              "      <td>22.0</td>\n",
              "      <td>11462.45</td>\n",
              "      <td>34415.52</td>\n",
              "      <td>26</td>\n",
              "      <td>0</td>\n",
              "      <td>1</td>\n",
              "    </tr>\n",
              "    <tr>\n",
              "      <th>99</th>\n",
              "      <td>CUS-883482547</td>\n",
              "      <td>61.0</td>\n",
              "      <td>58.0</td>\n",
              "      <td>59.0</td>\n",
              "      <td>7.0</td>\n",
              "      <td>171.0</td>\n",
              "      <td>12.0</td>\n",
              "      <td>18.0</td>\n",
              "      <td>33.0</td>\n",
              "      <td>2.0</td>\n",
              "      <td>50.0</td>\n",
              "      <td>63.0</td>\n",
              "      <td>120.0</td>\n",
              "      <td>58.0</td>\n",
              "      <td>36639.41</td>\n",
              "      <td>111368.88</td>\n",
              "      <td>19</td>\n",
              "      <td>1</td>\n",
              "      <td>0</td>\n",
              "    </tr>\n",
              "  </tbody>\n",
              "</table>\n",
              "<p>100 rows × 19 columns</p>\n",
              "</div>"
            ],
            "text/plain": [
              "       customer_id  month_8  month_9  month_10  ...     annual  age  F  M\n",
              "0   CUS-1005756958     50.0     14.0       9.0  ...   50464.44   53  1  0\n",
              "1   CUS-1117979751     43.0     25.0      32.0  ...  100202.20   21  0  1\n",
              "2   CUS-1140341822     15.0     22.0      43.0  ...   45996.24   28  0  1\n",
              "3   CUS-1147642491     29.0     39.0      50.0  ...   88992.28   34  1  0\n",
              "4   CUS-1196156254     82.0     98.0      65.0  ...  109304.44   34  1  0\n",
              "..             ...      ...      ...       ...  ...        ...  ... .. ..\n",
              "95    CUS-72755508     19.0     13.0      26.0  ...   34815.36   35  1  0\n",
              "96   CUS-809013380     68.0     42.0      14.0  ...   53927.64   21  1  0\n",
              "97   CUS-860700529     53.0     89.0      91.0  ...   43406.88   30  0  1\n",
              "98   CUS-880898248     32.0     17.0      29.0  ...   34415.52   26  0  1\n",
              "99   CUS-883482547     61.0     58.0      59.0  ...  111368.88   19  1  0\n",
              "\n",
              "[100 rows x 19 columns]"
            ]
          },
          "metadata": {
            "tags": []
          },
          "execution_count": 165
        }
      ]
    },
    {
      "cell_type": "code",
      "metadata": {
        "id": "dbqFLx9C1h7O",
        "colab_type": "code",
        "colab": {}
      },
      "source": [
        "final.drop(['customer_id'],inplace=True,axis=1)"
      ],
      "execution_count": null,
      "outputs": []
    },
    {
      "cell_type": "code",
      "metadata": {
        "id": "ixvgGYTh1tcp",
        "colab_type": "code",
        "colab": {}
      },
      "source": [
        "target=final['annual']"
      ],
      "execution_count": null,
      "outputs": []
    },
    {
      "cell_type": "code",
      "metadata": {
        "id": "BjXBLHg5AfgJ",
        "colab_type": "code",
        "colab": {}
      },
      "source": [
        "target2=pd.DataFrame(target)"
      ],
      "execution_count": null,
      "outputs": []
    },
    {
      "cell_type": "code",
      "metadata": {
        "id": "AG6ARf3yApwY",
        "colab_type": "code",
        "colab": {
          "base_uri": "https://localhost:8080/",
          "height": 424
        },
        "outputId": "382e8624-6f82-4fa9-db0d-ebe84518b469"
      },
      "source": [
        "target2"
      ],
      "execution_count": null,
      "outputs": [
        {
          "output_type": "execute_result",
          "data": {
            "text/html": [
              "<div>\n",
              "<style scoped>\n",
              "    .dataframe tbody tr th:only-of-type {\n",
              "        vertical-align: middle;\n",
              "    }\n",
              "\n",
              "    .dataframe tbody tr th {\n",
              "        vertical-align: top;\n",
              "    }\n",
              "\n",
              "    .dataframe thead th {\n",
              "        text-align: right;\n",
              "    }\n",
              "</style>\n",
              "<table border=\"1\" class=\"dataframe\">\n",
              "  <thead>\n",
              "    <tr style=\"text-align: right;\">\n",
              "      <th></th>\n",
              "      <th>annual</th>\n",
              "    </tr>\n",
              "  </thead>\n",
              "  <tbody>\n",
              "    <tr>\n",
              "      <th>0</th>\n",
              "      <td>50464.44</td>\n",
              "    </tr>\n",
              "    <tr>\n",
              "      <th>1</th>\n",
              "      <td>100202.20</td>\n",
              "    </tr>\n",
              "    <tr>\n",
              "      <th>2</th>\n",
              "      <td>45996.24</td>\n",
              "    </tr>\n",
              "    <tr>\n",
              "      <th>3</th>\n",
              "      <td>88992.28</td>\n",
              "    </tr>\n",
              "    <tr>\n",
              "      <th>4</th>\n",
              "      <td>109304.44</td>\n",
              "    </tr>\n",
              "    <tr>\n",
              "      <th>...</th>\n",
              "      <td>...</td>\n",
              "    </tr>\n",
              "    <tr>\n",
              "      <th>95</th>\n",
              "      <td>34815.36</td>\n",
              "    </tr>\n",
              "    <tr>\n",
              "      <th>96</th>\n",
              "      <td>53927.64</td>\n",
              "    </tr>\n",
              "    <tr>\n",
              "      <th>97</th>\n",
              "      <td>43406.88</td>\n",
              "    </tr>\n",
              "    <tr>\n",
              "      <th>98</th>\n",
              "      <td>34415.52</td>\n",
              "    </tr>\n",
              "    <tr>\n",
              "      <th>99</th>\n",
              "      <td>111368.88</td>\n",
              "    </tr>\n",
              "  </tbody>\n",
              "</table>\n",
              "<p>100 rows × 1 columns</p>\n",
              "</div>"
            ],
            "text/plain": [
              "       annual\n",
              "0    50464.44\n",
              "1   100202.20\n",
              "2    45996.24\n",
              "3    88992.28\n",
              "4   109304.44\n",
              "..        ...\n",
              "95   34815.36\n",
              "96   53927.64\n",
              "97   43406.88\n",
              "98   34415.52\n",
              "99  111368.88\n",
              "\n",
              "[100 rows x 1 columns]"
            ]
          },
          "metadata": {
            "tags": []
          },
          "execution_count": 169
        }
      ]
    },
    {
      "cell_type": "code",
      "metadata": {
        "id": "6C4RMG2d2LuV",
        "colab_type": "code",
        "colab": {}
      },
      "source": [
        "final.drop('annual',inplace=True,axis=1)"
      ],
      "execution_count": null,
      "outputs": []
    },
    {
      "cell_type": "code",
      "metadata": {
        "id": "VFm34ZJb3EbS",
        "colab_type": "code",
        "colab": {
          "base_uri": "https://localhost:8080/",
          "height": 54
        },
        "outputId": "0cd344e2-c073-4715-e8c5-1f85dffce462"
      },
      "source": [
        "from sklearn.linear_model import LinearRegression\n",
        "from sklearn.tree import DecisionTreeRegressor\n",
        "from sklearn.metrics import r2_score,mean_squared_error\n",
        "from sklearn.preprocessing import StandardScaler\n",
        "from sklearn.model_selection import train_test_split\n",
        "#model=LinearRegression()\n",
        "\n",
        "model=DecisionTreeRegressor()\n",
        "ss=StandardScaler()\n",
        "target1=ss.fit_transform(target2[['annual']])\n",
        "\n",
        "X_train,x_test,Y_train,y_test=train_test_split(final,target1,random_state=0,test_size=0.6)\n",
        "\n",
        "model.fit(X_train,Y_train)\n",
        "y_pred=model.predict(x_test)\n",
        "print(r2_score(y_pred,y_test))\n",
        "print(np.log(mean_squared_error(y_pred,y_test)))"
      ],
      "execution_count": null,
      "outputs": [
        {
          "output_type": "stream",
          "text": [
            "0.8527227565664037\n",
            "-1.9718353610187307\n"
          ],
          "name": "stdout"
        }
      ]
    },
    {
      "cell_type": "code",
      "metadata": {
        "id": "Ca3DTs-P3Nz-",
        "colab_type": "code",
        "colab": {
          "base_uri": "https://localhost:8080/",
          "height": 302
        },
        "outputId": "6bcc4cdc-685e-40ea-e0ae-e3a7106b0eb2"
      },
      "source": [
        "plt.figure()\n",
        "plt.plot(y_test)\n",
        "plt.plot(y_pred)\n",
        "plt.legend()"
      ],
      "execution_count": null,
      "outputs": [
        {
          "output_type": "stream",
          "text": [
            "No handles with labels found to put in legend.\n"
          ],
          "name": "stderr"
        },
        {
          "output_type": "execute_result",
          "data": {
            "text/plain": [
              "<matplotlib.legend.Legend at 0x7f56e09f2b00>"
            ]
          },
          "metadata": {
            "tags": []
          },
          "execution_count": 172
        },
        {
          "output_type": "display_data",
          "data": {
            "image/png": "[encoded data removed]",
            "text/plain": [
              "<Figure size 432x288 with 1 Axes>"
            ]
          },
          "metadata": {
            "tags": [],
            "needs_background": "light"
          }
        }
      ]
    },
    {
      "cell_type": "markdown",
      "metadata": {
        "id": "9oxTxRTLWIn-",
        "colab_type": "text"
      },
      "source": [
        "**CLUSTERING**"
      ]
    },
    {
      "cell_type": "code",
      "metadata": {
        "id": "nwMkZVfpM09o",
        "colab_type": "code",
        "colab": {
          "base_uri": "https://localhost:8080/",
          "height": 111
        },
        "outputId": "acf76240-3f49-4445-875c-21058632e6fb"
      },
      "source": [
        "from sklearn.cluster import KMeans\n",
        "final223=final.copy()\n",
        "final223['annual']=target2\n",
        "model1=KMeans(n_clusters=3)\n",
        "model1.fit(final223)\n",
        "cluster1=model1.labels_\n",
        "cluster1\n"
      ],
      "execution_count": null,
      "outputs": [
        {
          "output_type": "execute_result",
          "data": {
            "text/plain": [
              "array([2, 1, 2, 0, 1, 0, 2, 0, 2, 2, 1, 2, 2, 1, 0, 2, 2, 0, 2, 1, 0, 2,\n",
              "       0, 2, 0, 2, 0, 1, 2, 0, 2, 0, 1, 0, 0, 2, 2, 1, 2, 2, 2, 0, 2, 2,\n",
              "       1, 2, 2, 0, 1, 2, 1, 2, 2, 1, 2, 2, 1, 0, 2, 0, 0, 2, 1, 2, 0, 0,\n",
              "       2, 1, 0, 2, 2, 2, 2, 1, 2, 2, 2, 0, 2, 0, 2, 0, 0, 2, 1, 2, 2, 0,\n",
              "       2, 2, 2, 1, 0, 0, 2, 2, 2, 2, 2, 1], dtype=int32)"
            ]
          },
          "metadata": {
            "tags": []
          },
          "execution_count": 173
        }
      ]
    },
    {
      "cell_type": "code",
      "metadata": {
        "id": "NuKybiS-WtsM",
        "colab_type": "code",
        "colab": {}
      },
      "source": [
        "final223['cluster']=cluster1"
      ],
      "execution_count": null,
      "outputs": []
    },
    {
      "cell_type": "code",
      "metadata": {
        "id": "LY6Wy1pFcRHT",
        "colab_type": "code",
        "colab": {
          "base_uri": "https://localhost:8080/",
          "height": 212
        },
        "outputId": "7046e69f-c273-46b9-f283-2f38eec64237"
      },
      "source": [
        "final223.groupby(['cluster']).sum()"
      ],
      "execution_count": null,
      "outputs": [
        {
          "output_type": "execute_result",
          "data": {
            "text/html": [
              "<div>\n",
              "<style scoped>\n",
              "    .dataframe tbody tr th:only-of-type {\n",
              "        vertical-align: middle;\n",
              "    }\n",
              "\n",
              "    .dataframe tbody tr th {\n",
              "        vertical-align: top;\n",
              "    }\n",
              "\n",
              "    .dataframe thead th {\n",
              "        text-align: right;\n",
              "    }\n",
              "</style>\n",
              "<table border=\"1\" class=\"dataframe\">\n",
              "  <thead>\n",
              "    <tr style=\"text-align: right;\">\n",
              "      <th></th>\n",
              "      <th>month_8</th>\n",
              "      <th>month_9</th>\n",
              "      <th>month_10</th>\n",
              "      <th>credit</th>\n",
              "      <th>debit</th>\n",
              "      <th>INTER BANK</th>\n",
              "      <th>PAY/SALARY</th>\n",
              "      <th>PAYMENT</th>\n",
              "      <th>PHONE BANK</th>\n",
              "      <th>POS</th>\n",
              "      <th>SALES-POS</th>\n",
              "      <th>authorized</th>\n",
              "      <th>posted</th>\n",
              "      <th>amount</th>\n",
              "      <th>age</th>\n",
              "      <th>F</th>\n",
              "      <th>M</th>\n",
              "      <th>annual</th>\n",
              "    </tr>\n",
              "    <tr>\n",
              "      <th>cluster</th>\n",
              "      <th></th>\n",
              "      <th></th>\n",
              "      <th></th>\n",
              "      <th></th>\n",
              "      <th></th>\n",
              "      <th></th>\n",
              "      <th></th>\n",
              "      <th></th>\n",
              "      <th></th>\n",
              "      <th></th>\n",
              "      <th></th>\n",
              "      <th></th>\n",
              "      <th></th>\n",
              "      <th></th>\n",
              "      <th></th>\n",
              "      <th></th>\n",
              "      <th></th>\n",
              "      <th></th>\n",
              "    </tr>\n",
              "  </thead>\n",
              "  <tbody>\n",
              "    <tr>\n",
              "      <th>0</th>\n",
              "      <td>1076.0</td>\n",
              "      <td>1083.0</td>\n",
              "      <td>1128.0</td>\n",
              "      <td>252.0</td>\n",
              "      <td>3035.0</td>\n",
              "      <td>182.0</td>\n",
              "      <td>274.0</td>\n",
              "      <td>713.0</td>\n",
              "      <td>33.0</td>\n",
              "      <td>1028.0</td>\n",
              "      <td>1057.0</td>\n",
              "      <td>1972.0</td>\n",
              "      <td>1315.0</td>\n",
              "      <td>692896.13</td>\n",
              "      <td>793</td>\n",
              "      <td>12</td>\n",
              "      <td>16</td>\n",
              "      <td>2087939.36</td>\n",
              "    </tr>\n",
              "    <tr>\n",
              "      <th>1</th>\n",
              "      <td>806.0</td>\n",
              "      <td>855.0</td>\n",
              "      <td>826.0</td>\n",
              "      <td>163.0</td>\n",
              "      <td>2324.0</td>\n",
              "      <td>178.0</td>\n",
              "      <td>155.0</td>\n",
              "      <td>513.0</td>\n",
              "      <td>18.0</td>\n",
              "      <td>763.0</td>\n",
              "      <td>860.0</td>\n",
              "      <td>1292.0</td>\n",
              "      <td>1195.0</td>\n",
              "      <td>680314.77</td>\n",
              "      <td>630</td>\n",
              "      <td>7</td>\n",
              "      <td>12</td>\n",
              "      <td>2137309.20</td>\n",
              "    </tr>\n",
              "    <tr>\n",
              "      <th>2</th>\n",
              "      <td>2061.0</td>\n",
              "      <td>2075.0</td>\n",
              "      <td>2133.0</td>\n",
              "      <td>468.0</td>\n",
              "      <td>5801.0</td>\n",
              "      <td>382.0</td>\n",
              "      <td>454.0</td>\n",
              "      <td>1374.0</td>\n",
              "      <td>50.0</td>\n",
              "      <td>1992.0</td>\n",
              "      <td>2017.0</td>\n",
              "      <td>4453.0</td>\n",
              "      <td>1816.0</td>\n",
              "      <td>890073.30</td>\n",
              "      <td>1754</td>\n",
              "      <td>25</td>\n",
              "      <td>28</td>\n",
              "      <td>2481058.84</td>\n",
              "    </tr>\n",
              "  </tbody>\n",
              "</table>\n",
              "</div>"
            ],
            "text/plain": [
              "         month_8  month_9  month_10  credit  ...   age   F   M      annual\n",
              "cluster                                      ...                          \n",
              "0         1076.0   1083.0    1128.0   252.0  ...   793  12  16  2087939.36\n",
              "1          806.0    855.0     826.0   163.0  ...   630   7  12  2137309.20\n",
              "2         2061.0   2075.0    2133.0   468.0  ...  1754  25  28  2481058.84\n",
              "\n",
              "[3 rows x 18 columns]"
            ]
          },
          "metadata": {
            "tags": []
          },
          "execution_count": 175
        }
      ]
    },
    {
      "cell_type": "markdown",
      "metadata": {
        "id": "nrNeaZrDdMhd",
        "colab_type": "text"
      },
      "source": [
        "The Cluster 2 customers have spent more money in transactions than any other cluster."
      ]
    },
    {
      "cell_type": "markdown",
      "metadata": {
        "id": "hqYCn8nSdU73",
        "colab_type": "text"
      },
      "source": [
        "They have the annual income of 2.4 million AUD "
      ]
    },
    {
      "cell_type": "code",
      "metadata": {
        "id": "ttMuZeQhceAx",
        "colab_type": "code",
        "colab": {
          "base_uri": "https://localhost:8080/",
          "height": 212
        },
        "outputId": "aaf8907c-4250-4019-b0ba-30d75d28a141"
      },
      "source": [
        "final223.groupby(['cluster']).mean()"
      ],
      "execution_count": null,
      "outputs": [
        {
          "output_type": "execute_result",
          "data": {
            "text/html": [
              "<div>\n",
              "<style scoped>\n",
              "    .dataframe tbody tr th:only-of-type {\n",
              "        vertical-align: middle;\n",
              "    }\n",
              "\n",
              "    .dataframe tbody tr th {\n",
              "        vertical-align: top;\n",
              "    }\n",
              "\n",
              "    .dataframe thead th {\n",
              "        text-align: right;\n",
              "    }\n",
              "</style>\n",
              "<table border=\"1\" class=\"dataframe\">\n",
              "  <thead>\n",
              "    <tr style=\"text-align: right;\">\n",
              "      <th></th>\n",
              "      <th>month_8</th>\n",
              "      <th>month_9</th>\n",
              "      <th>month_10</th>\n",
              "      <th>credit</th>\n",
              "      <th>debit</th>\n",
              "      <th>INTER BANK</th>\n",
              "      <th>PAY/SALARY</th>\n",
              "      <th>PAYMENT</th>\n",
              "      <th>PHONE BANK</th>\n",
              "      <th>POS</th>\n",
              "      <th>SALES-POS</th>\n",
              "      <th>authorized</th>\n",
              "      <th>posted</th>\n",
              "      <th>amount</th>\n",
              "      <th>age</th>\n",
              "      <th>F</th>\n",
              "      <th>M</th>\n",
              "      <th>annual</th>\n",
              "    </tr>\n",
              "    <tr>\n",
              "      <th>cluster</th>\n",
              "      <th></th>\n",
              "      <th></th>\n",
              "      <th></th>\n",
              "      <th></th>\n",
              "      <th></th>\n",
              "      <th></th>\n",
              "      <th></th>\n",
              "      <th></th>\n",
              "      <th></th>\n",
              "      <th></th>\n",
              "      <th></th>\n",
              "      <th></th>\n",
              "      <th></th>\n",
              "      <th></th>\n",
              "      <th></th>\n",
              "      <th></th>\n",
              "      <th></th>\n",
              "      <th></th>\n",
              "    </tr>\n",
              "  </thead>\n",
              "  <tbody>\n",
              "    <tr>\n",
              "      <th>0</th>\n",
              "      <td>38.428571</td>\n",
              "      <td>38.678571</td>\n",
              "      <td>40.285714</td>\n",
              "      <td>9.000000</td>\n",
              "      <td>108.392857</td>\n",
              "      <td>6.500000</td>\n",
              "      <td>9.785714</td>\n",
              "      <td>25.464286</td>\n",
              "      <td>1.178571</td>\n",
              "      <td>36.714286</td>\n",
              "      <td>37.750000</td>\n",
              "      <td>70.428571</td>\n",
              "      <td>46.964286</td>\n",
              "      <td>24746.290357</td>\n",
              "      <td>28.321429</td>\n",
              "      <td>0.428571</td>\n",
              "      <td>0.571429</td>\n",
              "      <td>74569.262857</td>\n",
              "    </tr>\n",
              "    <tr>\n",
              "      <th>1</th>\n",
              "      <td>42.421053</td>\n",
              "      <td>45.000000</td>\n",
              "      <td>43.473684</td>\n",
              "      <td>8.578947</td>\n",
              "      <td>122.315789</td>\n",
              "      <td>9.368421</td>\n",
              "      <td>8.157895</td>\n",
              "      <td>27.000000</td>\n",
              "      <td>0.947368</td>\n",
              "      <td>40.157895</td>\n",
              "      <td>45.263158</td>\n",
              "      <td>68.000000</td>\n",
              "      <td>62.894737</td>\n",
              "      <td>35806.040526</td>\n",
              "      <td>33.157895</td>\n",
              "      <td>0.368421</td>\n",
              "      <td>0.631579</td>\n",
              "      <td>112489.957895</td>\n",
              "    </tr>\n",
              "    <tr>\n",
              "      <th>2</th>\n",
              "      <td>38.886792</td>\n",
              "      <td>39.150943</td>\n",
              "      <td>40.245283</td>\n",
              "      <td>8.830189</td>\n",
              "      <td>109.452830</td>\n",
              "      <td>7.207547</td>\n",
              "      <td>8.566038</td>\n",
              "      <td>25.924528</td>\n",
              "      <td>0.943396</td>\n",
              "      <td>37.584906</td>\n",
              "      <td>38.056604</td>\n",
              "      <td>84.018868</td>\n",
              "      <td>34.264151</td>\n",
              "      <td>16793.835849</td>\n",
              "      <td>33.094340</td>\n",
              "      <td>0.471698</td>\n",
              "      <td>0.528302</td>\n",
              "      <td>46812.430943</td>\n",
              "    </tr>\n",
              "  </tbody>\n",
              "</table>\n",
              "</div>"
            ],
            "text/plain": [
              "           month_8    month_9   month_10  ...         F         M         annual\n",
              "cluster                                   ...                                   \n",
              "0        38.428571  38.678571  40.285714  ...  0.428571  0.571429   74569.262857\n",
              "1        42.421053  45.000000  43.473684  ...  0.368421  0.631579  112489.957895\n",
              "2        38.886792  39.150943  40.245283  ...  0.471698  0.528302   46812.430943\n",
              "\n",
              "[3 rows x 18 columns]"
            ]
          },
          "metadata": {
            "tags": []
          },
          "execution_count": 177
        }
      ]
    },
    {
      "cell_type": "markdown",
      "metadata": {
        "id": "zYnrbhXCdngO",
        "colab_type": "text"
      },
      "source": [
        "The cluster 1 customers have done more average transactions than cluster 0 and cluster 2."
      ]
    },
    {
      "cell_type": "markdown",
      "metadata": {
        "id": "De9UCSspdu4i",
        "colab_type": "text"
      },
      "source": [
        "The cluster 1 customers have more average transaction amount compared and also have very high average income than any other cluster(1,12,489) AUD.\n",
        "\n",
        "Hence Cluster 1 customers are to be targeted."
      ]
    },
    {
      "cell_type": "code",
      "metadata": {
        "id": "5BXGs1yeeY4g",
        "colab_type": "code",
        "colab": {}
      },
      "source": [
        "sum11.reset_index(inplace=True)"
      ],
      "execution_count": null,
      "outputs": []
    },
    {
      "cell_type": "code",
      "metadata": {
        "id": "3M8MnVIDeeSX",
        "colab_type": "code",
        "colab": {}
      },
      "source": [
        "final223['customer_id']=sum11['customer_id']"
      ],
      "execution_count": null,
      "outputs": []
    },
    {
      "cell_type": "code",
      "metadata": {
        "id": "Lf9NvJdYeeGj",
        "colab_type": "code",
        "colab": {
          "base_uri": "https://localhost:8080/",
          "height": 392
        },
        "outputId": "58415b46-0d48-457c-e56f-994c8fa82ef1"
      },
      "source": [
        "final223['customer_id'][final223['cluster']==1]"
      ],
      "execution_count": null,
      "outputs": [
        {
          "output_type": "execute_result",
          "data": {
            "text/plain": [
              "1     CUS-1117979751\n",
              "4     CUS-1196156254\n",
              "10     CUS-134833760\n",
              "13    CUS-1462656821\n",
              "19    CUS-1617121891\n",
              "27    CUS-1816693151\n",
              "32    CUS-2031327464\n",
              "37    CUS-2155701614\n",
              "44    CUS-2376382098\n",
              "48    CUS-2505971401\n",
              "50     CUS-261674136\n",
              "53    CUS-2663907001\n",
              "56    CUS-2738291516\n",
              "62    CUS-3142625864\n",
              "67    CUS-3249305314\n",
              "73    CUS-3336454548\n",
              "84    CUS-4142663097\n",
              "91     CUS-527400765\n",
              "99     CUS-883482547\n",
              "Name: customer_id, dtype: object"
            ]
          },
          "metadata": {
            "tags": []
          },
          "execution_count": 181
        }
      ]
    },
    {
      "cell_type": "code",
      "metadata": {
        "id": "Kk2DGvALetVb",
        "colab_type": "code",
        "colab": {
          "base_uri": "https://localhost:8080/",
          "height": 36
        },
        "outputId": "79ac07be-011a-458b-ae5e-2461f150c282"
      },
      "source": [
        "len(final223['customer_id'][final223['cluster']==1])"
      ],
      "execution_count": null,
      "outputs": [
        {
          "output_type": "execute_result",
          "data": {
            "text/plain": [
              "19"
            ]
          },
          "metadata": {
            "tags": []
          },
          "execution_count": 182
        }
      ]
    },
    {
      "cell_type": "markdown",
      "metadata": {
        "id": "VTPU8ltxeYVd",
        "colab_type": "text"
      },
      "source": [
        "There are 19 Customers who are to be targeted for sales strategy by bank ANZ"
      ]
    },
    {
      "cell_type": "markdown",
      "metadata": {
        "id": "97wiTSUSeYKc",
        "colab_type": "text"
      },
      "source": [
        "1     CUS-1117979751\n",
        "4     CUS-1196156254\n",
        "10     CUS-134833760\n",
        "13    CUS-1462656821\n",
        "19    CUS-1617121891\n",
        "27    CUS-1816693151\n",
        "32    CUS-2031327464\n",
        "37    CUS-2155701614\n",
        "44    CUS-2376382098\n",
        "48    CUS-2505971401\n",
        "50     CUS-261674136\n",
        "53    CUS-2663907001\n",
        "56    CUS-2738291516\n",
        "62    CUS-3142625864\n",
        "67    CUS-3249305314\n",
        "73    CUS-3336454548\n",
        "84    CUS-4142663097\n",
        "91     CUS-527400765\n",
        "99     CUS-883482547"
      ]
    },
    {
      "cell_type": "code",
      "metadata": {
        "id": "kf-QOV7Ce_FM",
        "colab_type": "code",
        "colab": {}
      },
      "source": [
        ""
      ],
      "execution_count": null,
      "outputs": []
    }
  ]
}